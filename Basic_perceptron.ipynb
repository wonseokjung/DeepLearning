{
 "cells": [
  {
   "cell_type": "markdown",
   "metadata": {},
   "source": [
    "written by Wonseok Jung. \n",
    "\n",
    "\n",
    "\n",
    "\n",
    "This code is based on Deep learning from Scratch. \n",
    "\n"
   ]
  },
  {
   "cell_type": "markdown",
   "metadata": {},
   "source": [
    "Let's learn about what is a perceptron\n"
   ]
  },
  {
   "cell_type": "code",
   "execution_count": 68,
   "metadata": {
    "collapsed": false
   },
   "outputs": [],
   "source": [
    "from IPython.display import Image"
   ]
  },
  {
   "cell_type": "markdown",
   "metadata": {},
   "source": [
    "\n",
    "![alt text](perceptron.png \"Example of Perceptron\")\n",
    "\n",
    "The idea of Neural network is based on the Perceptron. \n",
    "The circle is called neuron and the line is the edge.\n",
    "\n",
    "If the total value of signal from the previous neuron is bigger than theta it returns 1\n",
    ",if not it returns 0\n",
    "\n",
    "There are four of perceptron concepts.\n",
    "\n",
    "1.AND\n",
    "2.Not AND\n",
    "3.OR\n",
    "4.Not OR\n",
    "\n",
    "Below is the python code for the perceptron concepts. \n",
    "You will find the limit of perceptron at the end.\n",
    "\n"
   ]
  },
  {
   "cell_type": "code",
   "execution_count": 69,
   "metadata": {
    "collapsed": false
   },
   "outputs": [
    {
     "name": "stdout",
     "output_type": "stream",
     "text": [
      "0\n",
      "1\n"
     ]
    }
   ],
   "source": [
    "#AND perceptron using numpy\n",
    "import numpy as np\n",
    "\n",
    "#w : weight x : input b : bias\n",
    "def AND(x1,x2):\n",
    "    W= np.array([0.5,0.5])\n",
    "    X=([x1,x2])\n",
    "    b= -0.7\n",
    "    y= np.sum(W*X)+b\n",
    "    if y<=0:\n",
    "        return 0\n",
    "    elif y>0:\n",
    "        return 1\n",
    "    \n",
    "\n",
    "#check if it work\n",
    "\n",
    "print(AND(0,0))\n",
    "print(AND(1,1))\n"
   ]
  },
  {
   "cell_type": "code",
   "execution_count": 70,
   "metadata": {
    "collapsed": false
   },
   "outputs": [
    {
     "name": "stdout",
     "output_type": "stream",
     "text": [
      "1\n",
      "0\n"
     ]
    }
   ],
   "source": [
    "#NOT AND perceptron with numpy and bias \n",
    "\n",
    "\n",
    "def NOTAND(x1,x2):\n",
    "  \n",
    "    W=np.array([-0.5,-0.5])\n",
    "    X=np.array([x1,x2])\n",
    "    b= 0.7\n",
    "    \n",
    "    y=np.sum(X*W)+b\n",
    "    if y<= 0:\n",
    "        return 0\n",
    "    elif y> 0:\n",
    "        return 1\n",
    "    \n",
    "print(NOTAND(0,0))\n",
    "\n",
    "    \n",
    "print(NOTAND(1,1))"
   ]
  },
  {
   "cell_type": "code",
   "execution_count": 71,
   "metadata": {
    "collapsed": false
   },
   "outputs": [
    {
     "name": "stdout",
     "output_type": "stream",
     "text": [
      "0\n",
      "1\n",
      "1\n"
     ]
    }
   ],
   "source": [
    "#OR perceptron\n",
    "\n",
    "def OR(x1,x2):\n",
    "  \n",
    "    W=np.array([0.5,0.5])\n",
    "    X=np.array([x1,x2])\n",
    "    b= -0.2 \n",
    "    \n",
    "    y=np.sum(X*W)+b\n",
    "    if y<= 0:\n",
    "        return 0\n",
    "    elif y> 0:\n",
    "        return 1\n",
    "    \n",
    "print(OR(0,0))\n",
    "print(OR(1,0))\n",
    "    \n",
    "print(OR(1,1))"
   ]
  },
  {
   "cell_type": "code",
   "execution_count": 72,
   "metadata": {
    "collapsed": false
   },
   "outputs": [
    {
     "name": "stdout",
     "output_type": "stream",
     "text": [
      "0\n",
      "0\n",
      "0\n",
      "0\n",
      " NOT OR does not work on perceptron\n"
     ]
    }
   ],
   "source": [
    "#NOT OR perceptron\n",
    "\n",
    "\n",
    "def NOTOR(x1,x2):\n",
    "  \n",
    "    W=np.array([-0.5,-0.5])\n",
    "    X=np.array([x1,x2])\n",
    "    b= -0.2 \n",
    "    \n",
    "    y=np.sum(X*W)+b\n",
    "    if y<= 0:\n",
    "        return 0\n",
    "    elif y> 0:\n",
    "        return 1\n",
    "    \n",
    "print(NOTOR(0,0))\n",
    "print(NOTOR(1,0))\n",
    "print(NOTOR(0,1))\n",
    "print(NOTOR(1,1))\n",
    "\n",
    "\n",
    "print(\" NOT OR does not work on perceptron\")"
   ]
  },
  {
   "cell_type": "markdown",
   "metadata": {},
   "source": [
    "![alt text](Neuralnetwork.png \"Example of Neuralnetwork\")\n",
    "\n",
    "\n",
    "\n",
    "However, NOT OR perceptron work on multilayer perceptron. "
   ]
  },
  {
   "cell_type": "markdown",
   "metadata": {
    "collapsed": true
   },
   "source": [
    "![alt text](activation_function.png \"Sigmoid and Relu\")\n",
    "\n",
    "Let me introduce two well know activation functions which is sigmoid and Relu\n",
    "\n",
    "\n",
    "\n"
   ]
  },
  {
   "cell_type": "code",
   "execution_count": 73,
   "metadata": {
    "collapsed": false
   },
   "outputs": [
    {
     "data": {
      "image/png": "[encoded data removed]",
      "text/plain": [
       "<matplotlib.figure.Figure at 0x7f8f8f255160>"
      ]
     },
     "metadata": {},
     "output_type": "display_data"
    }
   ],
   "source": [
    "###### #define sigmoid\n",
    "#sigmoid returns 0~1\n",
    "def sigmoid(x):\n",
    "    return 1/(1+np.exp(-x))\n",
    "check=np.arange(-5.0,5.0,0.01)\n",
    "\n",
    "sigmoid(check) \n",
    "#lets draw a graph of sigmoid\n",
    "\n",
    "\n",
    "\n",
    "import matplotlib.pyplot as plt\n",
    "\n",
    "y= sigmoid(check)\n",
    "plt.plot(check,y) #check is x - axis\n",
    "plt.ylim(-0.1,1.1)#range of y axis\n",
    "plt.show()\n",
    "\n",
    "\n",
    "\n",
    "\n",
    "\n",
    "\n",
    "    "
   ]
  },
  {
   "cell_type": "code",
   "execution_count": 74,
   "metadata": {
    "collapsed": false,
    "scrolled": true
   },
   "outputs": [
    {
     "data": {
      "image/png": "[encoded data removed]",
      "text/plain": [
       "<matplotlib.figure.Figure at 0x7f8f8f1adac8>"
      ]
     },
     "metadata": {},
     "output_type": "display_data"
    }
   ],
   "source": [
    "#RELU function\n",
    "\n",
    "def RELU(x):\n",
    "    return np.maximum(0,x)\n",
    "\n",
    "check=np.arange(-3.0,2,0.01)\n",
    "\n",
    "sigmoid(check) \n",
    "#lets draw a graph of sigmoid\n",
    "\n",
    "\n",
    "y= RELU(check)\n",
    "plt.plot(check,y) #check is x - axis\n",
    "plt.ylim(-1,3)#range of y axis\n",
    "plt.show()"
   ]
  },
  {
   "cell_type": "markdown",
   "metadata": {},
   "source": [
    "![alt text](three_layer_1.png \"\")\n",
    "\n",
    "There is hidden layer"
   ]
  },
  {
   "cell_type": "code",
   "execution_count": 75,
   "metadata": {
    "collapsed": false
   },
   "outputs": [
    {
     "name": "stdout",
     "output_type": "stream",
     "text": [
      "(2,)\n",
      "(3,)\n",
      "(2, 3)\n",
      "[ 0.3  0.7  1.1]\n"
     ]
    }
   ],
   "source": [
    "#Make first hidden layer \n",
    "\n",
    "x1,x2=1.0,0.5\n",
    "b1,b2,b3=0.1,0.2,0.3\n",
    "w11,w21,w31,w12,w22,w32=0.1,0.3,0.5,0.2,0.4,0.6\n",
    "X=np.array([x1,x2])\n",
    "B=np.array([b1,b2,b3])\n",
    "W=np.array([[w11,w21,w31],[w12,w22,w32]])\n",
    "print(X.shape)\n",
    "print(B.shape)\n",
    "print(W.shape)\n",
    "\n",
    "A1=np.dot(X,W)+B\n",
    "\n",
    "print(A1)\n",
    "\n"
   ]
  },
  {
   "cell_type": "markdown",
   "metadata": {
    "collapsed": true
   },
   "source": [
    "![alt text](Activationfunction.png \"Sigmoid\")"
   ]
  },
  {
   "cell_type": "code",
   "execution_count": 93,
   "metadata": {
    "collapsed": false
   },
   "outputs": [
    {
     "name": "stdout",
     "output_type": "stream",
     "text": [
      "[ 0.57444252  0.66818777  0.75026011]\n"
     ]
    }
   ],
   "source": [
    "\n",
    "Z1=sigmoid(A1)\n",
    "print(Z1)"
   ]
  },
  {
   "cell_type": "code",
   "execution_count": 98,
   "metadata": {
    "collapsed": false
   },
   "outputs": [
    {
     "name": "stdout",
     "output_type": "stream",
     "text": [
      "[ 0.51615984  1.21402696]\n"
     ]
    }
   ],
   "source": [
    "W2=np.array([[0.1,0.4],[0.2,0.5],[0.3,0.6]])\n",
    "B2= np.array([0.1,0.2])\n",
    "\n",
    "\n",
    "\n",
    "A2=np.dot(Z1,W2)+B2\n",
    "\n",
    "print(A1)\n",
    "Z2=sigmoid(A1)"
   ]
  },
  {
   "cell_type": "markdown",
   "metadata": {
    "collapsed": false
   },
   "source": [
    "![alt text](sameprocess.png \"second hidden layer\")"
   ]
  },
  {
   "cell_type": "code",
   "execution_count": 101,
   "metadata": {
    "collapsed": false
   },
   "outputs": [
    {
     "name": "stdout",
     "output_type": "stream",
     "text": [
      "[ 0.31682708  0.8360051 ]\n"
     ]
    }
   ],
   "source": [
    "W3=np.array([[0.1,0.4],[0.2,0.5]])\n",
    "B3= np.array([0.1,0.2])\n",
    "\n",
    "\n",
    "\n",
    "A2=np.dot(Z2,W3)+B3\n",
    "\n",
    "\n",
    "print(A2)\n",
    "Z3=sigmoid(A2)"
   ]
  },
  {
   "cell_type": "markdown",
   "metadata": {
    "collapsed": true
   },
   "source": [
    "![alt text](output_softmax.png \"Outputlayer\")\n",
    "\n",
    "In mathematics, the softmax function, or normalized exponential function is a generalization of the logistic function that \"squashes\" a K-dimensional vector z of arbitrary real values to a K-dimensional vector σ ( z ) of real values in the range (0, 1) that add up to 1.\n",
    "In probability theory, the output of the softmax function can be used to represent a categorical distribution - that is, a probability distribution over K different possible outcomes. In fact, it is the gradient-log-normalizer of the categorical probability distribution.(wikipedia,2017)\n",
    "\n"
   ]
  },
  {
   "cell_type": "code",
   "execution_count": 102,
   "metadata": {
    "collapsed": false
   },
   "outputs": [
    {
     "name": "stdout",
     "output_type": "stream",
     "text": [
      "[ 0.47026703  0.52973297]\n"
     ]
    }
   ],
   "source": [
    "#softmax function\n",
    "\n",
    "def softmax(a):\n",
    "    exponential_a=np.exp(a)\n",
    "    sum_exponential_a=np.sum(exponential_a)\n",
    "    \n",
    "    y=exponential_a/sum_exponential_a\n",
    "    return y\n",
    "\n",
    "print(softmax(Z3))"
   ]
  },
  {
   "cell_type": "code",
   "execution_count": null,
   "metadata": {
    "collapsed": true
   },
   "outputs": [],
   "source": []
  },
  {
   "cell_type": "code",
   "execution_count": null,
   "metadata": {
    "collapsed": true
   },
   "outputs": [],
   "source": []
  }
 ],
 "metadata": {
  "kernelspec": {
   "display_name": "Python 3",
   "language": "python",
   "name": "python3"
  },
  "language_info": {
   "codemirror_mode": {
    "name": "ipython",
    "version": 3
   },
   "file_extension": ".py",
   "mimetype": "text/x-python",
   "name": "python",
   "nbconvert_exporter": "python",
   "pygments_lexer": "ipython3",
   "version": "3.6.0"
  }
 },
 "nbformat": 4,
 "nbformat_minor": 2
}
